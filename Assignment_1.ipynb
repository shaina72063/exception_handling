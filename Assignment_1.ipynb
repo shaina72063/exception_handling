{
 "cells": [
  {
   "cell_type": "code",
   "execution_count": 4,
   "id": "cd8ab0e6-f270-42ec-a673-b555d821f7f5",
   "metadata": {},
   "outputs": [
    {
     "name": "stdin",
     "output_type": "stream",
     "text": [
      "enter input: 5\n"
     ]
    },
    {
     "name": "stdout",
     "output_type": "stream",
     "text": [
      "    *\n",
      "   ***\n",
      "  *****\n",
      " *******\n",
      "*********\n"
     ]
    }
   ],
   "source": [
    "n = int (input(\"enter input:\"))\n",
    "\n",
    "for i in range(n):\n",
    "    spaces = ' ' * (n - i - 1)  \n",
    "    stars = '*' * (2 * i + 1)\n",
    "    print(spaces + stars)\n",
    "            "
   ]
  },
  {
   "cell_type": "code",
   "execution_count": 1,
   "id": "93692d08-1381-409a-b37d-b9ac47e374e9",
   "metadata": {},
   "outputs": [
    {
     "name": "stdout",
     "output_type": "stream",
     "text": [
      "69\n"
     ]
    }
   ],
   "source": [
    "for x in range(10):\n",
    "    if x == 6:\n",
    "        print(x,end=\"\")     \n",
    "print(x)"
   ]
  },
  {
   "cell_type": "code",
   "execution_count": 2,
   "id": "3e3fca7b-6ace-4fff-abfb-02ad457f03b4",
   "metadata": {},
   "outputs": [
    {
     "ename": "NameError",
     "evalue": "name 'i' is not defined",
     "output_type": "error",
     "traceback": [
      "\u001b[1;31m---------------------------------------------------------------------------\u001b[0m",
      "\u001b[1;31mNameError\u001b[0m                                 Traceback (most recent call last)",
      "Cell \u001b[1;32mIn[2], line 1\u001b[0m\n\u001b[1;32m----> 1\u001b[0m \u001b[38;5;28;01mwhile\u001b[39;00m i \u001b[38;5;241m<\u001b[39m \u001b[38;5;241m20\u001b[39m:\n\u001b[0;32m      2\u001b[0m  \u001b[38;5;28mprint\u001b[39m(i)\n\u001b[0;32m      3\u001b[0m  i \u001b[38;5;241m+\u001b[39m\u001b[38;5;241m=\u001b[39m \u001b[38;5;241m1\u001b[39m\n",
      "\u001b[1;31mNameError\u001b[0m: name 'i' is not defined"
     ]
    }
   ],
   "source": [
    "while i < 20:\n",
    " print(i)\n",
    " i += 1"
   ]
  },
  {
   "cell_type": "code",
   "execution_count": 3,
   "id": "ee20a52a-180b-4234-806f-6d89b68cc153",
   "metadata": {},
   "outputs": [
    {
     "name": "stdout",
     "output_type": "stream",
     "text": [
      "7\n"
     ]
    }
   ],
   "source": [
    "x=15\n",
    "y=2\n",
    "print(x//y)"
   ]
  },
  {
   "cell_type": "code",
   "execution_count": 11,
   "id": "751cc1a9-12fb-438a-8334-b72bbba66bb2",
   "metadata": {},
   "outputs": [
    {
     "name": "stdin",
     "output_type": "stream",
     "text": [
      "enter input: 5\n"
     ]
    },
    {
     "name": "stdout",
     "output_type": "stream",
     "text": [
      "        * \n",
      "      * * * \n",
      "    * * * * * \n",
      "  * * * * * * * \n",
      "* * * * * * * * * \n"
     ]
    }
   ],
   "source": [
    "n = int (input(\"enter input:\"))\n",
    "for i in range(1,n+1):\n",
    "    for j in range(n-i):\n",
    "        print(\" \",end=\" \")\n",
    "    for k in range(1,2*i):\n",
    "        print(\"*\",end=\" \")\n",
    "    print()"
   ]
  },
  {
   "cell_type": "code",
   "execution_count": 12,
   "id": "9c05607a-7a30-4767-9fe0-83443937223f",
   "metadata": {},
   "outputs": [],
   "source": [
    "fruits = {\"apple\":120,\"mango\":80,\"orange\":100,\"melon\":40,}"
   ]
  },
  {
   "cell_type": "code",
   "execution_count": 13,
   "id": "a2238643-f411-4ea2-895b-0fa8715676d7",
   "metadata": {},
   "outputs": [
    {
     "data": {
      "text/plain": [
       "{'apple': 120, 'mango': 80, 'orange': 100, 'melon': 40}"
      ]
     },
     "execution_count": 13,
     "metadata": {},
     "output_type": "execute_result"
    }
   ],
   "source": [
    "fruits"
   ]
  },
  {
   "cell_type": "code",
   "execution_count": 14,
   "id": "d957b3f3-52c1-47e2-b81d-4c9cef8fb3f8",
   "metadata": {},
   "outputs": [
    {
     "data": {
      "text/plain": [
       "dict"
      ]
     },
     "execution_count": 14,
     "metadata": {},
     "output_type": "execute_result"
    }
   ],
   "source": [
    "type(fruits)"
   ]
  },
  {
   "cell_type": "markdown",
   "id": "b70995c7-5e7e-475f-80dc-dac4c6e336d0",
   "metadata": {},
   "source": [
    "# update dictionary"
   ]
  },
  {
   "cell_type": "code",
   "execution_count": 15,
   "id": "13df515b-e6a4-4704-b77e-0908e7b42b8d",
   "metadata": {},
   "outputs": [],
   "source": [
    "fruits['apple']=140"
   ]
  },
  {
   "cell_type": "code",
   "execution_count": 16,
   "id": "306eef5c-ee94-4c8a-96fb-e9f586ff720f",
   "metadata": {},
   "outputs": [
    {
     "data": {
      "text/plain": [
       "{'apple': 140, 'mango': 80, 'orange': 100, 'melon': 40}"
      ]
     },
     "execution_count": 16,
     "metadata": {},
     "output_type": "execute_result"
    }
   ],
   "source": [
    "fruits"
   ]
  },
  {
   "cell_type": "markdown",
   "id": "239c09c9-436e-45f4-892d-da354d1b6edf",
   "metadata": {},
   "source": [
    "# accessing data items from dictionary"
   ]
  },
  {
   "cell_type": "code",
   "execution_count": 17,
   "id": "09a4309f-6438-4bdf-a55d-ff88fd02e02d",
   "metadata": {},
   "outputs": [
    {
     "name": "stdout",
     "output_type": "stream",
     "text": [
      "apple\n",
      "mango\n",
      "orange\n",
      "melon\n"
     ]
    }
   ],
   "source": [
    "for i in fruits:\n",
    "    print(i)"
   ]
  },
  {
   "cell_type": "code",
   "execution_count": 18,
   "id": "2d886234-d4b4-4012-a93d-ecc6db1fa52e",
   "metadata": {},
   "outputs": [],
   "source": [
    "# accessing values of dictionary"
   ]
  },
  {
   "cell_type": "code",
   "execution_count": 19,
   "id": "90a30a01-928d-4a7d-8634-4a624a2cb690",
   "metadata": {},
   "outputs": [
    {
     "name": "stdout",
     "output_type": "stream",
     "text": [
      "140\n",
      "80\n",
      "100\n",
      "40\n"
     ]
    }
   ],
   "source": [
    "for i in fruits:\n",
    "    print(fruits[i])"
   ]
  },
  {
   "cell_type": "code",
   "execution_count": 20,
   "id": "81776d45-6cc7-4b27-a34d-c0634233436a",
   "metadata": {},
   "outputs": [
    {
     "name": "stdout",
     "output_type": "stream",
     "text": [
      "apple 140\n",
      "mango 80\n",
      "orange 100\n",
      "melon 40\n"
     ]
    }
   ],
   "source": [
    "#accessing keys and values of a dictionary\n",
    "for key , value in fruits.items():\n",
    "    print(key,value)"
   ]
  },
  {
   "cell_type": "code",
   "execution_count": 21,
   "id": "392b9bb2-6346-4ccb-ab1d-52745166e52a",
   "metadata": {},
   "outputs": [
    {
     "data": {
      "text/plain": [
       "dict_keys(['apple', 'mango', 'orange', 'melon'])"
      ]
     },
     "execution_count": 21,
     "metadata": {},
     "output_type": "execute_result"
    }
   ],
   "source": [
    "fruits.keys()"
   ]
  },
  {
   "cell_type": "code",
   "execution_count": 22,
   "id": "ced6e73d-4814-4075-b1fa-dcb98c397fbc",
   "metadata": {},
   "outputs": [
    {
     "data": {
      "text/plain": [
       "dict_values([140, 80, 100, 40])"
      ]
     },
     "execution_count": 22,
     "metadata": {},
     "output_type": "execute_result"
    }
   ],
   "source": [
    "fruits.values()"
   ]
  },
  {
   "cell_type": "code",
   "execution_count": 23,
   "id": "3d087cb5-5f1d-48fe-ab70-6a7c70c233d4",
   "metadata": {},
   "outputs": [
    {
     "data": {
      "text/plain": [
       "dict_items([('apple', 140), ('mango', 80), ('orange', 100), ('melon', 40)])"
      ]
     },
     "execution_count": 23,
     "metadata": {},
     "output_type": "execute_result"
    }
   ],
   "source": [
    "fruits.items()"
   ]
  },
  {
   "cell_type": "code",
   "execution_count": 25,
   "id": "0627b05d-b1bb-4e89-9bcc-df012c022fae",
   "metadata": {},
   "outputs": [],
   "source": [
    "#creating empty dictionary"
   ]
  },
  {
   "cell_type": "code",
   "execution_count": 26,
   "id": "16bbcb43-382f-418a-a999-7b38f0e41c78",
   "metadata": {},
   "outputs": [],
   "source": [
    "empty = {}"
   ]
  },
  {
   "cell_type": "code",
   "execution_count": 27,
   "id": "cbbe88f8-2d81-42db-b1d3-5555949ee986",
   "metadata": {},
   "outputs": [
    {
     "data": {
      "text/plain": [
       "{}"
      ]
     },
     "execution_count": 27,
     "metadata": {},
     "output_type": "execute_result"
    }
   ],
   "source": [
    "empty"
   ]
  },
  {
   "cell_type": "code",
   "execution_count": 28,
   "id": "804eca9a-0362-4428-ad68-54ab590f9b25",
   "metadata": {},
   "outputs": [],
   "source": [
    "# use of empty dict"
   ]
  },
  {
   "cell_type": "code",
   "execution_count": null,
   "id": "46699453-b559-4405-a0dd-0b889db8715e",
   "metadata": {},
   "outputs": [],
   "source": [
    "name = input(\"enter a name:\")\n",
    "freq = {}\n",
    "for i in name:\n",
    "    if i not in freq:\n",
    "        freq[i] = 1\n",
    "    else:\n",
    "        freq+=1\n",
    "print(freq)"
   ]
  },
  {
   "cell_type": "code",
   "execution_count": null,
   "id": "e6e41a52-95aa-40bf-b266-40d94f743450",
   "metadata": {},
   "outputs": [],
   "source": []
  }
 ],
 "metadata": {
  "kernelspec": {
   "display_name": "Python 3 (ipykernel)",
   "language": "python",
   "name": "python3"
  },
  "language_info": {
   "codemirror_mode": {
    "name": "ipython",
    "version": 3
   },
   "file_extension": ".py",
   "mimetype": "text/x-python",
   "name": "python",
   "nbconvert_exporter": "python",
   "pygments_lexer": "ipython3",
   "version": "3.11.7"
  }
 },
 "nbformat": 4,
 "nbformat_minor": 5
}
